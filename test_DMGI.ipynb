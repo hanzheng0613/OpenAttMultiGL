{
 "cells": [
  {
   "cell_type": "code",
   "execution_count": 1,
   "id": "21ec00c1",
   "metadata": {},
   "outputs": [
    {
     "name": "stdout",
     "output_type": "stream",
     "text": [
      "\t[Classification] Macro-F1: 0.2515 (0.0055) | Micro-F1: 0.2627 (0.0181)\n",
      "\t[Clustering] NMI: 0.0010\n",
      "\t[Similarity] [5,10,20,50,100] : [0.2722,0.2729,0.2716,0.2703,0.2697]\n"
     ]
    }
   ],
   "source": [
    "import numpy as np\n",
    "np.random.seed(0)\n",
    "import torch\n",
    "torch.autograd.set_detect_anomaly(True)\n",
    "torch.manual_seed(0)\n",
    "torch.cuda.manual_seed_all(0)\n",
    "torch.backends.cudnn.deterministic = True\n",
    "torch.backends.cudnn.benchmark = False\n",
    "import argparse\n",
    "from OpenAttMultiGL.utils.process import *\n",
    "import scipy.io as sio\n",
    "\n",
    "def parse_args():\n",
    "    # input arguments\n",
    "    parser = argparse.ArgumentParser(description='DMGI')\n",
    "\n",
    "    parser.add_argument('--embedder', nargs='?', default='DMGI')\n",
    "    parser.add_argument('--dataset', nargs='?', default='amazon')\n",
    "    parser.add_argument('--metapaths', nargs='?', default='PLP,PAP')\n",
    "\n",
    "    parser.add_argument('--nb_epochs', type=int, default=2000)\n",
    "    parser.add_argument('--hid_units', type=int, default=64)\n",
    "    \n",
    "    parser.add_argument('--training_ratio', type=float, default=0.3,\n",
    "                        help='Training Ratio')\n",
    "    parser.add_argument('--validing_ratio', type=float, default=0.1,\n",
    "                        help='Validing Ratio')\n",
    "    parser.add_argument('--lr', type = float, default = 0.001)\n",
    "    parser.add_argument('--l2_coef', type=float, default=0.0001)\n",
    "    parser.add_argument('--drop_prob', type=float, default=0.5)\n",
    "    parser.add_argument('--reg_coef', type=float, default=0.001)\n",
    "    parser.add_argument('--sup_coef', type=float, default=0.1)\n",
    "    parser.add_argument('--sc', type=float, default=3.0, help='GCN self connection')\n",
    "    parser.add_argument('--margin', type=float, default=0.1)\n",
    "    parser.add_argument('--gpu_num', type=int, default=0)\n",
    "    parser.add_argument('--patience', type=int, default=20)\n",
    "    parser.add_argument('--nheads', type=int, default=1)\n",
    "    parser.add_argument('--activation', nargs='?', default='relu')\n",
    "    parser.add_argument('--isSemi', action='store_true', default=False)\n",
    "    parser.add_argument('--isBias', action='store_true', default=False)\n",
    "    parser.add_argument('--isAttn', action='store_true', default=False)\n",
    "\n",
    "    return parser.parse_known_args()\n",
    "\n",
    "def printConfig(args):\n",
    "    args_names = []\n",
    "    args_vals = []\n",
    "    for arg in vars(args):\n",
    "        args_names.append(arg)\n",
    "        args_vals.append(getattr(args, arg))\n",
    "    print(args_names)\n",
    "    print(args_vals)\n",
    "\n",
    "def main():\n",
    "    args, unknown = parse_args()\n",
    "\n",
    "    if args.embedder == 'DMGI':\n",
    "        from OpenAttMultiGL.model.DMGI import DMGI\n",
    "        embedder = DMGI(args)\n",
    "        #print(embedder.)\n",
    "    elif args.embedder == 'DGI':\n",
    "        from OpenAttMultiGL.model.DMGI import DGI\n",
    "        embedder = DGI(args)\n",
    " \n",
    "    embedder.training()\n",
    "    \n",
    "if __name__ == '__main__':\n",
    "    args, unknown = parse_args()\n",
    "    #print(args.dataset)\n",
    "    \n",
    "    main()\n",
    "\n"
   ]
  },
  {
   "cell_type": "code",
   "execution_count": null,
   "id": "88116392",
   "metadata": {},
   "outputs": [],
   "source": []
  }
 ],
 "metadata": {
  "kernelspec": {
   "display_name": "Python 3 (ipykernel)",
   "language": "python",
   "name": "python3"
  },
  "language_info": {
   "codemirror_mode": {
    "name": "ipython",
    "version": 3
   },
   "file_extension": ".py",
   "mimetype": "text/x-python",
   "name": "python",
   "nbconvert_exporter": "python",
   "pygments_lexer": "ipython3",
   "version": "3.10.9"
  }
 },
 "nbformat": 4,
 "nbformat_minor": 5
}
