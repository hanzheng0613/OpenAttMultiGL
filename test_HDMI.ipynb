{
 "cells": [
  {
   "cell_type": "code",
   "execution_count": 1,
   "id": "68412833",
   "metadata": {},
   "outputs": [],
   "source": [
    "\"\"\"\n",
    "   PyTorch implementation of HDMI: High-order Deep Multiplex Infomax  \n",
    "   \n",
    "       https://github.com/baoyujing/HDMI/tree/master\n",
    "        \n",
    "\"\"\"\n",
    "\n",
    "import argparse\n",
    "\n",
    "\n",
    "def parse_args():\n",
    "    parser = argparse.ArgumentParser()\n",
    "\n",
    "    parser.add_argument('--embedder', nargs='?', default='HDMI', help='HDMI or HDI')\n",
    "    parser.add_argument('--hid_units', type=int, default=128, help='hidden dimension')\n",
    "    parser.add_argument('--same_discriminator', type=bool, default=False,\n",
    "                        help='whether to use the same discriminator for the layers and fusion module')\n",
    "\n",
    "    parser.add_argument('--dataset', nargs='?', default='amazon')\n",
    "    parser.add_argument('--sc', type=float, default=3.0, help='GCN self connection')\n",
    "    parser.add_argument('--sparse', type=bool, default=True, help='sparse adjacency matrix')\n",
    "\n",
    "    parser.add_argument('--nb_epochs', type=int, default=10000, help='the number of epochs')\n",
    "    parser.add_argument('--training_ratio', type=float, default=0.3,\n",
    "                        help='Training Ratio')\n",
    "    parser.add_argument('--validing_ratio', type=float, default=0.1,\n",
    "                        help='Validing Ratio')\n",
    "    parser.add_argument('--lr', type=float, default=0.001, help='learning rate')\n",
    "    parser.add_argument('--patience', type=int, default=100, help='patience for early stopping')\n",
    "    parser.add_argument('--gpu_num', type=int, default=0, help='the id of gpu to use')\n",
    "    parser.add_argument('--coef_layers', type=list, default=[1, 2, 0.001],\n",
    "                        help='different layers of the multiplex network: '\n",
    "                             'coefficients for the extrinsic, intrinsic and joint signals')\n",
    "    parser.add_argument('--coef_fusion', type=list, default=[0.01, 0.1, 0.001],\n",
    "                        help='fusion module: coefficient for the extrinsic, intrinsic and joint signals')\n",
    "    parser.add_argument('--save_root', type=str, default=\"./saved_model\", help='root for saving the model')\n",
    "\n",
    "    return parser.parse_known_args()\n",
    "\n",
    "\n",
    "\n"
   ]
  },
  {
   "cell_type": "code",
   "execution_count": 3,
   "id": "8eb6454f",
   "metadata": {},
   "outputs": [
    {
     "name": "stdout",
     "output_type": "stream",
     "text": [
      "{'embedder': 'HDMI', 'hid_units': 128, 'same_discriminator': False, 'dataset': 'amazon', 'sc': 3.0, 'sparse': True, 'nb_epochs': 10000, 'training_ratio': 0.3, 'validing_ratio': 0.1, 'lr': 0.001, 'patience': 100, 'gpu_num': 0, 'coef_layers': [1, 2, 0.001], 'coef_fusion': [0.01, 0.1, 0.001], 'save_root': './saved_model'}\n"
     ]
    },
    {
     "ename": "AttributeError",
     "evalue": "'dataset' object has no attribute 'HAN_features'",
     "output_type": "error",
     "traceback": [
      "\u001b[0;31m---------------------------------------------------------------------------\u001b[0m",
      "\u001b[0;31mAttributeError\u001b[0m                            Traceback (most recent call last)",
      "Cell \u001b[0;32mIn[3], line 24\u001b[0m\n\u001b[1;32m     20\u001b[0m     \u001b[38;5;28;01mreturn\u001b[39;00m macro_f1s, micro_f1s, k1\n\u001b[1;32m     23\u001b[0m \u001b[38;5;28;01mif\u001b[39;00m \u001b[38;5;18m__name__\u001b[39m \u001b[38;5;241m==\u001b[39m \u001b[38;5;124m'\u001b[39m\u001b[38;5;124m__main__\u001b[39m\u001b[38;5;124m'\u001b[39m:\n\u001b[0;32m---> 24\u001b[0m     macro_f1s, micro_f1s, k1 \u001b[38;5;241m=\u001b[39m \u001b[43mmain\u001b[49m\u001b[43m(\u001b[49m\u001b[43m)\u001b[49m\n",
      "Cell \u001b[0;32mIn[3], line 17\u001b[0m, in \u001b[0;36mmain\u001b[0;34m()\u001b[0m\n\u001b[1;32m     15\u001b[0m \u001b[38;5;28;01melif\u001b[39;00m args\u001b[38;5;241m.\u001b[39membedder \u001b[38;5;241m==\u001b[39m \u001b[38;5;124m\"\u001b[39m\u001b[38;5;124mHDMI\u001b[39m\u001b[38;5;124m\"\u001b[39m:\n\u001b[1;32m     16\u001b[0m     \u001b[38;5;28;01mfrom\u001b[39;00m \u001b[38;5;21;01mmGCN_Toolbox\u001b[39;00m\u001b[38;5;21;01m.\u001b[39;00m\u001b[38;5;21;01mmodel\u001b[39;00m\u001b[38;5;21;01m.\u001b[39;00m\u001b[38;5;21;01mhdmi\u001b[39;00m\u001b[38;5;21;01m.\u001b[39;00m\u001b[38;5;21;01mhdmi\u001b[39;00m \u001b[38;5;28;01mimport\u001b[39;00m HDMI\n\u001b[0;32m---> 17\u001b[0m     embedder \u001b[38;5;241m=\u001b[39m \u001b[43mHDMI\u001b[49m\u001b[43m(\u001b[49m\u001b[43margs\u001b[49m\u001b[43m)\u001b[49m\n\u001b[1;32m     19\u001b[0m macro_f1s, micro_f1s, k1 \u001b[38;5;241m=\u001b[39m embedder\u001b[38;5;241m.\u001b[39mtraining()\n\u001b[1;32m     20\u001b[0m \u001b[38;5;28;01mreturn\u001b[39;00m macro_f1s, micro_f1s, k1\n",
      "File \u001b[0;32m~/Desktop/mGCN_Toolbox/mGCN_Toolbox/model/hdmi/hdmi.py:22\u001b[0m, in \u001b[0;36mHDMI.__init__\u001b[0;34m(self, args)\u001b[0m\n\u001b[1;32m     21\u001b[0m \u001b[38;5;28;01mdef\u001b[39;00m \u001b[38;5;21m__init__\u001b[39m(\u001b[38;5;28mself\u001b[39m, args):\n\u001b[0;32m---> 22\u001b[0m     \u001b[43membedder\u001b[49m\u001b[38;5;241;43m.\u001b[39;49m\u001b[38;5;21;43m__init__\u001b[39;49m\u001b[43m(\u001b[49m\u001b[38;5;28;43mself\u001b[39;49m\u001b[43m,\u001b[49m\u001b[43m \u001b[49m\u001b[43margs\u001b[49m\u001b[43m)\u001b[49m\n\u001b[1;32m     23\u001b[0m     \u001b[38;5;28mself\u001b[39m\u001b[38;5;241m.\u001b[39margs \u001b[38;5;241m=\u001b[39m args\n\u001b[1;32m     24\u001b[0m     \u001b[38;5;28mself\u001b[39m\u001b[38;5;241m.\u001b[39mcoef_l \u001b[38;5;241m=\u001b[39m \u001b[38;5;28mself\u001b[39m\u001b[38;5;241m.\u001b[39margs\u001b[38;5;241m.\u001b[39mcoef_layers\n",
      "File \u001b[0;32m~/Desktop/mGCN_Toolbox/mGCN_Toolbox/model/hdmi/embedder.py:15\u001b[0m, in \u001b[0;36membedder.__init__\u001b[0;34m(self, args)\u001b[0m\n\u001b[1;32m     13\u001b[0m \u001b[38;5;28;01mdef\u001b[39;00m \u001b[38;5;21m__init__\u001b[39m(\u001b[38;5;28mself\u001b[39m, args):\n\u001b[1;32m     14\u001b[0m     args\u001b[38;5;241m.\u001b[39mgpu_num_ \u001b[38;5;241m=\u001b[39m args\u001b[38;5;241m.\u001b[39mgpu_num\n\u001b[0;32m---> 15\u001b[0m     \u001b[38;5;28mself\u001b[39m\u001b[38;5;241m.\u001b[39msample_data \u001b[38;5;241m=\u001b[39m \u001b[43mdataset\u001b[49m\u001b[43m(\u001b[49m\u001b[43margs\u001b[49m\u001b[38;5;241;43m.\u001b[39;49m\u001b[43mdataset\u001b[49m\u001b[43m)\u001b[49m\n\u001b[1;32m     16\u001b[0m     \u001b[38;5;28;01mif\u001b[39;00m args\u001b[38;5;241m.\u001b[39mgpu_num_ \u001b[38;5;241m==\u001b[39m \u001b[38;5;124m'\u001b[39m\u001b[38;5;124mcpu\u001b[39m\u001b[38;5;124m'\u001b[39m:\n\u001b[1;32m     17\u001b[0m         args\u001b[38;5;241m.\u001b[39mdevice \u001b[38;5;241m=\u001b[39m \u001b[38;5;124m'\u001b[39m\u001b[38;5;124mcpu\u001b[39m\u001b[38;5;124m'\u001b[39m\n",
      "File \u001b[0;32m~/Desktop/mGCN_Toolbox/mGCN_Toolbox/utils/dataset.py:39\u001b[0m, in \u001b[0;36mdataset.__init__\u001b[0;34m(self, dataname)\u001b[0m\n\u001b[1;32m     36\u001b[0m \u001b[38;5;66;03m#if self.dataname == 'Amazon'or self.dataname == 'Youtube'or self.dataname == 'Twitter'or self.dataname != 'example':\u001b[39;00m\n\u001b[1;32m     37\u001b[0m \u001b[38;5;28mself\u001b[39m\u001b[38;5;241m.\u001b[39mtraining_data_by_type, \u001b[38;5;28mself\u001b[39m\u001b[38;5;241m.\u001b[39mvalid_true_data_by_edge, \u001b[38;5;28mself\u001b[39m\u001b[38;5;241m.\u001b[39mvalid_false_data_by_edge, \u001b[38;5;28mself\u001b[39m\u001b[38;5;241m.\u001b[39mtesting_true_data_by_edge, \u001b[38;5;28mself\u001b[39m\u001b[38;5;241m.\u001b[39mtesting_false_data_by_edge \u001b[38;5;241m=\u001b[39m \u001b[38;5;28mself\u001b[39m\u001b[38;5;241m.\u001b[39mload_txt_data(\u001b[38;5;28mself\u001b[39m\u001b[38;5;241m.\u001b[39mdataname)\n\u001b[0;32m---> 39\u001b[0m \u001b[38;5;28mself\u001b[39m\u001b[38;5;241m.\u001b[39mgs,\u001b[38;5;28;43mself\u001b[39;49m\u001b[38;5;241;43m.\u001b[39;49m\u001b[43mHAN_features\u001b[49m,\u001b[38;5;28mself\u001b[39m\u001b[38;5;241m.\u001b[39mHAN_labels,\u001b[38;5;28mself\u001b[39m\u001b[38;5;241m.\u001b[39mHAN_num_classes,\u001b[38;5;28mself\u001b[39m\u001b[38;5;241m.\u001b[39mHAN_train_idx,\n\u001b[1;32m     40\u001b[0m \u001b[38;5;28mself\u001b[39m\u001b[38;5;241m.\u001b[39mHAN_val_idx,\u001b[38;5;28mself\u001b[39m\u001b[38;5;241m.\u001b[39mHAN_test_idx,\u001b[38;5;28mself\u001b[39m\u001b[38;5;241m.\u001b[39mtrain_mask,\u001b[38;5;28mself\u001b[39m\u001b[38;5;241m.\u001b[39mval_mask,\u001b[38;5;28mself\u001b[39m\u001b[38;5;241m.\u001b[39mtest_mask \u001b[38;5;241m=\u001b[39m \u001b[38;5;28mself\u001b[39m\u001b[38;5;241m.\u001b[39mload_HAN_data(\u001b[38;5;28mself\u001b[39m\u001b[38;5;241m.\u001b[39mdataname)\n",
      "\u001b[0;31mAttributeError\u001b[0m: 'dataset' object has no attribute 'HAN_features'"
     ]
    }
   ],
   "source": [
    "def printConfig(args):\n",
    "    arg2value = {}\n",
    "    for arg in vars(args):\n",
    "        arg2value[arg] = getattr(args, arg)\n",
    "    print(arg2value)\n",
    "\n",
    "\n",
    "def main():\n",
    "    args, unknown = parse_args()\n",
    "    printConfig(args)\n",
    "\n",
    "    if args.embedder == \"HDI\":\n",
    "        from mGCN_Toolbox.model.hdmi.hdi import HDI\n",
    "        embedder = HDI(args)\n",
    "    elif args.embedder == \"HDMI\":\n",
    "        from mGCN_Toolbox.model.hdmi.hdmi import HDMI\n",
    "        embedder = HDMI(args)\n",
    "\n",
    "    macro_f1s, micro_f1s, k1 = embedder.training()\n",
    "    return macro_f1s, micro_f1s, k1\n",
    "\n",
    "\n",
    "if __name__ == '__main__':\n",
    "    macro_f1s, micro_f1s, k1 = main()\n",
    "\n"
   ]
  },
  {
   "cell_type": "code",
   "execution_count": null,
   "id": "4e6118ea",
   "metadata": {},
   "outputs": [],
   "source": []
  },
  {
   "cell_type": "code",
   "execution_count": null,
   "id": "3b36a4a2",
   "metadata": {},
   "outputs": [],
   "source": []
  }
 ],
 "metadata": {
  "kernelspec": {
   "display_name": "Python 3 (ipykernel)",
   "language": "python",
   "name": "python3"
  },
  "language_info": {
   "codemirror_mode": {
    "name": "ipython",
    "version": 3
   },
   "file_extension": ".py",
   "mimetype": "text/x-python",
   "name": "python",
   "nbconvert_exporter": "python",
   "pygments_lexer": "ipython3",
   "version": "3.10.9"
  }
 },
 "nbformat": 4,
 "nbformat_minor": 5
}
