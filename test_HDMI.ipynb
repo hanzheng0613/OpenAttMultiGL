{
 "cells": [
  {
   "cell_type": "code",
   "execution_count": 1,
   "id": "68412833",
   "metadata": {},
   "outputs": [],
   "source": [
    "\"\"\"\n",
    "   PyTorch implementation of HDMI: High-order Deep Multiplex Infomax  \n",
    "   \n",
    "       https://github.com/baoyujing/HDMI/tree/master\n",
    "        \n",
    "\"\"\"\n",
    "\n",
    "import argparse\n",
    "\n",
    "\n",
    "def parse_args():\n",
    "    parser = argparse.ArgumentParser()\n",
    "\n",
    "    parser.add_argument('--embedder', nargs='?', default='HDMI', help='HDMI or HDI')\n",
    "    parser.add_argument('--hid_units', type=int, default=128, help='hidden dimension')\n",
    "    parser.add_argument('--same_discriminator', type=bool, default=False,\n",
    "                        help='whether to use the same discriminator for the layers and fusion module')\n",
    "\n",
    "    parser.add_argument('--dataset', nargs='?', default='imdb')\n",
    "    parser.add_argument('--sc', type=float, default=3.0, help='GCN self connection')\n",
    "    parser.add_argument('--sparse', type=bool, default=True, help='sparse adjacency matrix')\n",
    "\n",
    "    parser.add_argument('--nb_epochs', type=int, default=2000, help='the number of epochs')\n",
    "    parser.add_argument('--training_ratio', type=float, default=0.3,\n",
    "                        help='Training Ratio')\n",
    "    parser.add_argument('--validing_ratio', type=float, default=0.1,\n",
    "                        help='Validing Ratio')\n",
    "    parser.add_argument('--lr', type=float, default=0.001, help='learning rate')\n",
    "    parser.add_argument('--patience', type=int, default=100, help='patience for early stopping')\n",
    "    parser.add_argument('--gpu_num', type=int, default=0, help='the id of gpu to use')\n",
    "    parser.add_argument('--coef_layers', type=list, default=[1, 2, 0.001],\n",
    "                        help='different layers of the multiplex network: '\n",
    "                             'coefficients for the extrinsic, intrinsic and joint signals')\n",
    "    parser.add_argument('--coef_fusion', type=list, default=[0.01, 0.1, 0.001],\n",
    "                        help='fusion module: coefficient for the extrinsic, intrinsic and joint signals')\n",
    "    parser.add_argument('--save_root', type=str, default=\"./saved_model\", help='root for saving the model')\n",
    "\n",
    "    return parser.parse_known_args()\n",
    "\n",
    "\n",
    "\n"
   ]
  },
  {
   "cell_type": "code",
   "execution_count": 2,
   "id": "8eb6454f",
   "metadata": {},
   "outputs": [
    {
     "name": "stdout",
     "output_type": "stream",
     "text": [
      "0.001\n",
      "{'embedder': 'HDMI', 'hid_units': 128, 'same_discriminator': False, 'dataset': 'imdb', 'sc': 3.0, 'sparse': True, 'nb_epochs': 2000, 'training_ratio': 0.3, 'validing_ratio': 0.1, 'lr': 0.001, 'patience': 100, 'gpu_num': 0, 'coef_layers': [1, 2, 0.001], 'coef_fusion': [0.01, 0.1, 0.001], 'save_root': './saved_model'}\n",
      "Started training...\n"
     ]
    },
    {
     "name": "stderr",
     "output_type": "stream",
     "text": [
      "100%|███████████████████████████████████████| 2000/2000 [57:26<00:00,  1.72s/it]\n"
     ]
    },
    {
     "name": "stdout",
     "output_type": "stream",
     "text": [
      "tensor(0.1748, grad_fn=<AddBackward0>) tensor(0.8796, grad_fn=<AddBackward0>) tensor(1.1988, grad_fn=<AddBackward0>) tensor(0.0163, grad_fn=<BinaryCrossEntropyWithLogitsBackward0>) tensor(0.0996, grad_fn=<BinaryCrossEntropyWithLogitsBackward0>) tensor(0.6924, grad_fn=<BinaryCrossEntropyWithLogitsBackward0>)\n",
      "Evaluating...\n",
      "\t[Classification] Macro-F1: 0.5999 (0.0081) | Micro-F1: 0.6090 (0.0079)\n"
     ]
    },
    {
     "name": "stderr",
     "output_type": "stream",
     "text": [
      "/Users/hanzhengwang/anaconda3/lib/python3.10/site-packages/sklearn/cluster/_kmeans.py:870: FutureWarning:\n",
      "\n",
      "The default value of `n_init` will change from 10 to 'auto' in 1.4. Set the value of `n_init` explicitly to suppress the warning\n",
      "\n",
      "/Users/hanzhengwang/anaconda3/lib/python3.10/site-packages/sklearn/cluster/_kmeans.py:870: FutureWarning:\n",
      "\n",
      "The default value of `n_init` will change from 10 to 'auto' in 1.4. Set the value of `n_init` explicitly to suppress the warning\n",
      "\n",
      "/Users/hanzhengwang/anaconda3/lib/python3.10/site-packages/sklearn/cluster/_kmeans.py:870: FutureWarning:\n",
      "\n",
      "The default value of `n_init` will change from 10 to 'auto' in 1.4. Set the value of `n_init` explicitly to suppress the warning\n",
      "\n",
      "/Users/hanzhengwang/anaconda3/lib/python3.10/site-packages/sklearn/cluster/_kmeans.py:870: FutureWarning:\n",
      "\n",
      "The default value of `n_init` will change from 10 to 'auto' in 1.4. Set the value of `n_init` explicitly to suppress the warning\n",
      "\n",
      "/Users/hanzhengwang/anaconda3/lib/python3.10/site-packages/sklearn/cluster/_kmeans.py:870: FutureWarning:\n",
      "\n",
      "The default value of `n_init` will change from 10 to 'auto' in 1.4. Set the value of `n_init` explicitly to suppress the warning\n",
      "\n",
      "/Users/hanzhengwang/anaconda3/lib/python3.10/site-packages/sklearn/cluster/_kmeans.py:870: FutureWarning:\n",
      "\n",
      "The default value of `n_init` will change from 10 to 'auto' in 1.4. Set the value of `n_init` explicitly to suppress the warning\n",
      "\n",
      "/Users/hanzhengwang/anaconda3/lib/python3.10/site-packages/sklearn/cluster/_kmeans.py:870: FutureWarning:\n",
      "\n",
      "The default value of `n_init` will change from 10 to 'auto' in 1.4. Set the value of `n_init` explicitly to suppress the warning\n",
      "\n",
      "/Users/hanzhengwang/anaconda3/lib/python3.10/site-packages/sklearn/cluster/_kmeans.py:870: FutureWarning:\n",
      "\n",
      "The default value of `n_init` will change from 10 to 'auto' in 1.4. Set the value of `n_init` explicitly to suppress the warning\n",
      "\n",
      "/Users/hanzhengwang/anaconda3/lib/python3.10/site-packages/sklearn/cluster/_kmeans.py:870: FutureWarning:\n",
      "\n",
      "The default value of `n_init` will change from 10 to 'auto' in 1.4. Set the value of `n_init` explicitly to suppress the warning\n",
      "\n",
      "/Users/hanzhengwang/anaconda3/lib/python3.10/site-packages/sklearn/cluster/_kmeans.py:870: FutureWarning:\n",
      "\n",
      "The default value of `n_init` will change from 10 to 'auto' in 1.4. Set the value of `n_init` explicitly to suppress the warning\n",
      "\n"
     ]
    },
    {
     "name": "stdout",
     "output_type": "stream",
     "text": [
      "\t[Clustering] NMI: 0.1917 | 0.0000\n",
      "\t[Similarity] [5,10,20,50,100] : [0.5784,0.5627,0.5512,0.5355,0.5256]\n",
      "None\n"
     ]
    }
   ],
   "source": [
    "def printConfig(args):\n",
    "    arg2value = {}\n",
    "    for arg in vars(args):\n",
    "        arg2value[arg] = getattr(args, arg)\n",
    "    print(arg2value)\n",
    "\n",
    "\n",
    "def main():\n",
    "    args, unknown = parse_args()\n",
    "    print(args.lr)\n",
    "    printConfig(args)\n",
    "\n",
    "    if args.embedder == \"HDI\":\n",
    "        from mGCN_Toolbox.model.hdmi.hdi import HDI\n",
    "        embedder = HDI(args)\n",
    "    elif args.embedder == \"HDMI\":\n",
    "        from mGCN_Toolbox.model.hdmi.hdmi import HDMI\n",
    "        embedder = HDMI(args)\n",
    "\n",
    "    macro_f1s, micro_f1s, k1, sim = embedder.training()\n",
    "    return macro_f1s, micro_f1s, k1, sim\n",
    "\n",
    "\n",
    "if __name__ == '__main__':\n",
    "    macro_f1s, micro_f1s, k1, sim = main()\n",
    "    print(sim)\n",
    "\n"
   ]
  },
  {
   "cell_type": "code",
   "execution_count": null,
   "id": "4e6118ea",
   "metadata": {},
   "outputs": [],
   "source": []
  },
  {
   "cell_type": "code",
   "execution_count": null,
   "id": "3b36a4a2",
   "metadata": {},
   "outputs": [],
   "source": []
  }
 ],
 "metadata": {
  "kernelspec": {
   "display_name": "Python 3 (ipykernel)",
   "language": "python",
   "name": "python3"
  },
  "language_info": {
   "codemirror_mode": {
    "name": "ipython",
    "version": 3
   },
   "file_extension": ".py",
   "mimetype": "text/x-python",
   "name": "python",
   "nbconvert_exporter": "python",
   "pygments_lexer": "ipython3",
   "version": "3.10.9"
  }
 },
 "nbformat": 4,
 "nbformat_minor": 5
}
