{
 "cells": [
  {
   "cell_type": "code",
   "execution_count": 3,
   "id": "68412833",
   "metadata": {},
   "outputs": [],
   "source": [
    "\"\"\"\n",
    "   PyTorch implementation of HDMI: High-order Deep Multiplex Infomax  \n",
    "   \n",
    "       https://github.com/baoyujing/HDMI/tree/master\n",
    "        \n",
    "\"\"\"\n",
    "\n",
    "import argparse\n",
    "\n",
    "\n",
    "def parse_args():\n",
    "    parser = argparse.ArgumentParser()\n",
    "\n",
    "    parser.add_argument('--embedder', nargs='?', default='HDMI', help='HDMI or HDI')\n",
    "    parser.add_argument('--hid_units', type=int, default=128, help='hidden dimension')\n",
    "    parser.add_argument('--same_discriminator', type=bool, default=False,\n",
    "                        help='whether to use the same discriminator for the layers and fusion module')\n",
    "\n",
    "    parser.add_argument('--dataset', nargs='?', default='imdb')\n",
    "    parser.add_argument('--sc', type=float, default=3.0, help='GCN self connection')\n",
    "    parser.add_argument('--sparse', type=bool, default=True, help='sparse adjacency matrix')\n",
    "\n",
    "    parser.add_argument('--nb_epochs', type=int, default=2000, help='the number of epochs')\n",
    "    parser.add_argument('--training_ratio', type=float, default=0.3,\n",
    "                        help='Training Ratio')\n",
    "    parser.add_argument('--validing_ratio', type=float, default=0.1,\n",
    "                        help='Validing Ratio')\n",
    "    parser.add_argument('--lr', type=float, default=0.001, help='learning rate')\n",
    "    parser.add_argument('--patience', type=int, default=100, help='patience for early stopping')\n",
    "    parser.add_argument('--gpu_num', type=int, default=0, help='the id of gpu to use')\n",
    "    parser.add_argument('--coef_layers', type=list, default=[1, 2, 0.001],\n",
    "                        help='different layers of the multiplex network: '\n",
    "                             'coefficients for the extrinsic, intrinsic and joint signals')\n",
    "    parser.add_argument('--coef_fusion', type=list, default=[0.01, 0.1, 0.001],\n",
    "                        help='fusion module: coefficient for the extrinsic, intrinsic and joint signals')\n",
    "    parser.add_argument('--save_root', type=str, default=\"./saved_model\", help='root for saving the model')\n",
    "    parser.add_argument('--test_view', type=int, default=0, help='the id of gpu to use')\n",
    "\n",
    "    return parser.parse_known_args()\n",
    "\n",
    "\n",
    "\n"
   ]
  },
  {
   "cell_type": "code",
   "execution_count": 4,
   "id": "8eb6454f",
   "metadata": {},
   "outputs": [
    {
     "name": "stdout",
     "output_type": "stream",
     "text": [
      "0.001\n",
      "{'embedder': 'HDMI', 'hid_units': 128, 'same_discriminator': False, 'dataset': 'imdb', 'sc': 3.0, 'sparse': True, 'nb_epochs': 2000, 'training_ratio': 0.3, 'validing_ratio': 0.1, 'lr': 0.001, 'patience': 100, 'gpu_num': 0, 'coef_layers': [1, 2, 0.001], 'coef_fusion': [0.01, 0.1, 0.001], 'save_root': './saved_model', 'test_view': 0}\n",
      "Started training...\n"
     ]
    },
    {
     "name": "stderr",
     "output_type": "stream",
     "text": [
      "  1%|▎                                      | 16/2000 [00:29<1:00:31,  1.83s/it]\n"
     ]
    },
    {
     "ename": "KeyboardInterrupt",
     "evalue": "",
     "output_type": "error",
     "traceback": [
      "\u001b[0;31m---------------------------------------------------------------------------\u001b[0m",
      "\u001b[0;31mKeyboardInterrupt\u001b[0m                         Traceback (most recent call last)",
      "Cell \u001b[0;32mIn[4], line 25\u001b[0m\n\u001b[1;32m     21\u001b[0m     \u001b[38;5;28;01mreturn\u001b[39;00m macro_f1s, micro_f1s, k1, sim\n\u001b[1;32m     24\u001b[0m \u001b[38;5;28;01mif\u001b[39;00m \u001b[38;5;18m__name__\u001b[39m \u001b[38;5;241m==\u001b[39m \u001b[38;5;124m'\u001b[39m\u001b[38;5;124m__main__\u001b[39m\u001b[38;5;124m'\u001b[39m:\n\u001b[0;32m---> 25\u001b[0m     macro_f1s, micro_f1s, k1, sim \u001b[38;5;241m=\u001b[39m \u001b[43mmain\u001b[49m\u001b[43m(\u001b[49m\u001b[43m)\u001b[49m\n\u001b[1;32m     26\u001b[0m     \u001b[38;5;28mprint\u001b[39m(sim)\n",
      "Cell \u001b[0;32mIn[4], line 20\u001b[0m, in \u001b[0;36mmain\u001b[0;34m()\u001b[0m\n\u001b[1;32m     17\u001b[0m     \u001b[38;5;28;01mfrom\u001b[39;00m \u001b[38;5;21;01mmGCN_Toolbox\u001b[39;00m\u001b[38;5;21;01m.\u001b[39;00m\u001b[38;5;21;01mmodel\u001b[39;00m\u001b[38;5;21;01m.\u001b[39;00m\u001b[38;5;21;01mhdmi\u001b[39;00m\u001b[38;5;21;01m.\u001b[39;00m\u001b[38;5;21;01mhdmi\u001b[39;00m \u001b[38;5;28;01mimport\u001b[39;00m HDMI\n\u001b[1;32m     18\u001b[0m     embedder \u001b[38;5;241m=\u001b[39m HDMI(args)\n\u001b[0;32m---> 20\u001b[0m macro_f1s, micro_f1s, k1, sim \u001b[38;5;241m=\u001b[39m \u001b[43membedder\u001b[49m\u001b[38;5;241;43m.\u001b[39;49m\u001b[43mtraining\u001b[49m\u001b[43m(\u001b[49m\u001b[43m)\u001b[49m\n\u001b[1;32m     21\u001b[0m \u001b[38;5;28;01mreturn\u001b[39;00m macro_f1s, micro_f1s, k1, sim\n",
      "File \u001b[0;32m~/Desktop/mGCN_Toolbox 0609/mGCN_Toolbox/model/hdmi/hdmi.py:80\u001b[0m, in \u001b[0;36mHDMI.training\u001b[0;34m(self)\u001b[0m\n\u001b[1;32m     77\u001b[0m         \u001b[38;5;28mprint\u001b[39m(\u001b[38;5;124m\"\u001b[39m\u001b[38;5;124mEarly stopped!\u001b[39m\u001b[38;5;124m\"\u001b[39m)\n\u001b[1;32m     78\u001b[0m         \u001b[38;5;28;01mbreak\u001b[39;00m\n\u001b[0;32m---> 80\u001b[0m     \u001b[43mloss\u001b[49m\u001b[38;5;241;43m.\u001b[39;49m\u001b[43mbackward\u001b[49m\u001b[43m(\u001b[49m\u001b[43m)\u001b[49m\n\u001b[1;32m     81\u001b[0m     optimiser\u001b[38;5;241m.\u001b[39mstep()\n\u001b[1;32m     83\u001b[0m \u001b[38;5;28mprint\u001b[39m(loss_e, loss_i, loss_j, loss_e_fusion, loss_i_fusion, loss_j_fusion)\n",
      "File \u001b[0;32m~/anaconda3/lib/python3.10/site-packages/torch/_tensor.py:396\u001b[0m, in \u001b[0;36mTensor.backward\u001b[0;34m(self, gradient, retain_graph, create_graph, inputs)\u001b[0m\n\u001b[1;32m    387\u001b[0m \u001b[38;5;28;01mif\u001b[39;00m has_torch_function_unary(\u001b[38;5;28mself\u001b[39m):\n\u001b[1;32m    388\u001b[0m     \u001b[38;5;28;01mreturn\u001b[39;00m handle_torch_function(\n\u001b[1;32m    389\u001b[0m         Tensor\u001b[38;5;241m.\u001b[39mbackward,\n\u001b[1;32m    390\u001b[0m         (\u001b[38;5;28mself\u001b[39m,),\n\u001b[0;32m   (...)\u001b[0m\n\u001b[1;32m    394\u001b[0m         create_graph\u001b[38;5;241m=\u001b[39mcreate_graph,\n\u001b[1;32m    395\u001b[0m         inputs\u001b[38;5;241m=\u001b[39minputs)\n\u001b[0;32m--> 396\u001b[0m \u001b[43mtorch\u001b[49m\u001b[38;5;241;43m.\u001b[39;49m\u001b[43mautograd\u001b[49m\u001b[38;5;241;43m.\u001b[39;49m\u001b[43mbackward\u001b[49m\u001b[43m(\u001b[49m\u001b[38;5;28;43mself\u001b[39;49m\u001b[43m,\u001b[49m\u001b[43m \u001b[49m\u001b[43mgradient\u001b[49m\u001b[43m,\u001b[49m\u001b[43m \u001b[49m\u001b[43mretain_graph\u001b[49m\u001b[43m,\u001b[49m\u001b[43m \u001b[49m\u001b[43mcreate_graph\u001b[49m\u001b[43m,\u001b[49m\u001b[43m \u001b[49m\u001b[43minputs\u001b[49m\u001b[38;5;241;43m=\u001b[39;49m\u001b[43minputs\u001b[49m\u001b[43m)\u001b[49m\n",
      "File \u001b[0;32m~/anaconda3/lib/python3.10/site-packages/torch/autograd/__init__.py:173\u001b[0m, in \u001b[0;36mbackward\u001b[0;34m(tensors, grad_tensors, retain_graph, create_graph, grad_variables, inputs)\u001b[0m\n\u001b[1;32m    168\u001b[0m     retain_graph \u001b[38;5;241m=\u001b[39m create_graph\n\u001b[1;32m    170\u001b[0m \u001b[38;5;66;03m# The reason we repeat same the comment below is that\u001b[39;00m\n\u001b[1;32m    171\u001b[0m \u001b[38;5;66;03m# some Python versions print out the first line of a multi-line function\u001b[39;00m\n\u001b[1;32m    172\u001b[0m \u001b[38;5;66;03m# calls in the traceback and some print out the last line\u001b[39;00m\n\u001b[0;32m--> 173\u001b[0m \u001b[43mVariable\u001b[49m\u001b[38;5;241;43m.\u001b[39;49m\u001b[43m_execution_engine\u001b[49m\u001b[38;5;241;43m.\u001b[39;49m\u001b[43mrun_backward\u001b[49m\u001b[43m(\u001b[49m\u001b[43m  \u001b[49m\u001b[38;5;66;43;03m# Calls into the C++ engine to run the backward pass\u001b[39;49;00m\n\u001b[1;32m    174\u001b[0m \u001b[43m    \u001b[49m\u001b[43mtensors\u001b[49m\u001b[43m,\u001b[49m\u001b[43m \u001b[49m\u001b[43mgrad_tensors_\u001b[49m\u001b[43m,\u001b[49m\u001b[43m \u001b[49m\u001b[43mretain_graph\u001b[49m\u001b[43m,\u001b[49m\u001b[43m \u001b[49m\u001b[43mcreate_graph\u001b[49m\u001b[43m,\u001b[49m\u001b[43m \u001b[49m\u001b[43minputs\u001b[49m\u001b[43m,\u001b[49m\n\u001b[1;32m    175\u001b[0m \u001b[43m    \u001b[49m\u001b[43mallow_unreachable\u001b[49m\u001b[38;5;241;43m=\u001b[39;49m\u001b[38;5;28;43;01mTrue\u001b[39;49;00m\u001b[43m,\u001b[49m\u001b[43m \u001b[49m\u001b[43maccumulate_grad\u001b[49m\u001b[38;5;241;43m=\u001b[39;49m\u001b[38;5;28;43;01mTrue\u001b[39;49;00m\u001b[43m)\u001b[49m\n",
      "\u001b[0;31mKeyboardInterrupt\u001b[0m: "
     ]
    }
   ],
   "source": [
    "def printConfig(args):\n",
    "    arg2value = {}\n",
    "    for arg in vars(args):\n",
    "        arg2value[arg] = getattr(args, arg)\n",
    "    print(arg2value)\n",
    "\n",
    "\n",
    "def main():\n",
    "    args, unknown = parse_args()\n",
    "    print(args.lr)\n",
    "    printConfig(args)\n",
    "\n",
    "    if args.embedder == \"HDI\":\n",
    "        from mGCN_Toolbox.model.hdmi.hdi import HDI\n",
    "        embedder = HDI(args)\n",
    "    elif args.embedder == \"HDMI\":\n",
    "        from mGCN_Toolbox.model.hdmi.hdmi import HDMI\n",
    "        embedder = HDMI(args)\n",
    "\n",
    "    macro_f1s, micro_f1s, k1, sim = embedder.training()\n",
    "    return macro_f1s, micro_f1s, k1, sim\n",
    "\n",
    "\n",
    "if __name__ == '__main__':\n",
    "    macro_f1s, micro_f1s, k1, sim = main()\n",
    "    print(sim)\n",
    "\n"
   ]
  },
  {
   "cell_type": "code",
   "execution_count": null,
   "id": "4e6118ea",
   "metadata": {},
   "outputs": [],
   "source": []
  },
  {
   "cell_type": "code",
   "execution_count": null,
   "id": "3b36a4a2",
   "metadata": {},
   "outputs": [],
   "source": []
  }
 ],
 "metadata": {
  "kernelspec": {
   "display_name": "Python 3 (ipykernel)",
   "language": "python",
   "name": "python3"
  },
  "language_info": {
   "codemirror_mode": {
    "name": "ipython",
    "version": 3
   },
   "file_extension": ".py",
   "mimetype": "text/x-python",
   "name": "python",
   "nbconvert_exporter": "python",
   "pygments_lexer": "ipython3",
   "version": "3.10.9"
  }
 },
 "nbformat": 4,
 "nbformat_minor": 5
}
