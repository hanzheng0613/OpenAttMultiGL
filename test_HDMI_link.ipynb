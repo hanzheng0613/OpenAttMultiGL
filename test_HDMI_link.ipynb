{
 "cells": [
  {
   "cell_type": "code",
   "execution_count": 1,
   "id": "efab4607",
   "metadata": {
    "scrolled": true
   },
   "outputs": [
    {
     "name": "stdout",
     "output_type": "stream",
     "text": [
      "{'embedder': 'HDMI', 'hid_units': 256, 'same_discriminator': False, 'dataset': 'acm', 'sc': 3.0, 'sparse': True, 'nb_epochs': 10, 'training_ratio': 0.3, 'validing_ratio': 0.1, 'lr': 0.001, 'patience': 100, 'gpu_num': 0, 'coef_layers': [1, 2, 0.001], 'coef_fusion': [0.01, 0.1, 0.001], 'save_root': './saved_model', 'test_view': 0}\n",
      "Started training...\n"
     ]
    },
    {
     "name": "stderr",
     "output_type": "stream",
     "text": [
      "100%|███████████████████████████████████████████| 10/10 [01:04<00:00,  6.44s/it]\n"
     ]
    },
    {
     "name": "stdout",
     "output_type": "stream",
     "text": [
      "tensor(1.3800, grad_fn=<AddBackward0>) tensor(1.3862, grad_fn=<AddBackward0>) tensor(1.3863, grad_fn=<AddBackward0>) tensor(0.6905, grad_fn=<BinaryCrossEntropyWithLogitsBackward0>) tensor(0.6931, grad_fn=<BinaryCrossEntropyWithLogitsBackward0>) tensor(0.6931, grad_fn=<BinaryCrossEntropyWithLogitsBackward0>)\n",
      "Evaluating...\n",
      "Epoch: 0\n",
      "Best auc: 0.9340828157079859\n",
      "Best ap: 0.9108064770698547\n",
      "Epoch: 2\n",
      "Best auc: 0.9341048691517675\n",
      "Best ap: 0.9108803868293762\n",
      "Epoch: 3\n",
      "Best auc: 0.9353591573385203\n",
      "Best ap: 0.9127427935600281\n",
      "Epoch: 6\n",
      "Best auc: 0.9360721172622977\n",
      "Best ap: 0.9139259457588196\n",
      "Average-percision: 0.911446 0.001687846\n",
      "Average-AUC: 0.9345252564637153 0.0010452942028988822\n"
     ]
    }
   ],
   "source": [
    "import argparse\n",
    "import numpy as np\n",
    "import torch\n",
    "import numpy as np\n",
    "import pickle as pkl\n",
    "import scipy.io as sio\n",
    "import scipy.sparse as sp\n",
    "from torch_geometric.utils import from_scipy_sparse_matrix, to_scipy_sparse_matrix\n",
    "\n",
    "def parse_args():\n",
    "    parser = argparse.ArgumentParser()\n",
    "\n",
    "    parser.add_argument('--embedder', nargs='?', default='HDMI', help='HDMI or HDI')\n",
    "    parser.add_argument('--hid_units', type=int, default=256, help='hidden dimension')\n",
    "    parser.add_argument('--same_discriminator', type=bool, default=False,\n",
    "                        help='whether to use the same discriminator for the layers and fusion module')\n",
    "\n",
    "    parser.add_argument('--dataset', nargs='?', default='acm')\n",
    "    parser.add_argument('--sc', type=float, default=3.0, help='GCN self connection')\n",
    "    parser.add_argument('--sparse', type=bool, default=True, help='sparse adjacency matrix')\n",
    " \n",
    "    parser.add_argument('--nb_epochs', type=int, default=10, help='the number of epochs')\n",
    "    parser.add_argument('--training_ratio', type=float, default=0.3,\n",
    "                        help='Training Ratio')\n",
    "    parser.add_argument('--validing_ratio', type=float, default=0.1,\n",
    "                        help='Validing Ratio')\n",
    "    parser.add_argument('--lr', type=float, default=0.001, help='learning rate')\n",
    "    parser.add_argument('--patience', type=int, default=100, help='patience for early stopping')\n",
    "    parser.add_argument('--gpu_num', type=int, default=0, help='the id of gpu to use')\n",
    "    parser.add_argument('--coef_layers', type=list, default=[1, 2, 0.001],\n",
    "                        help='different layers of the multiplex network: '\n",
    "                             'coefficients for the extrinsic, intrinsic and joint signals')\n",
    "    parser.add_argument('--coef_fusion', type=list, default=[0.01, 0.1, 0.001],\n",
    "                        help='fusion module: coefficient for the extrinsic, intrinsic and joint signals')\n",
    "    parser.add_argument('--save_root', type=str, default=\"./saved_model\", help='root for saving the model')\n",
    "    parser.add_argument('--test_view', type=int, default=0, help='the id of gpu to use')\n",
    "    return parser.parse_known_args()\n",
    "\n",
    "\n",
    "def printConfig(args):\n",
    "    arg2value = {}\n",
    "    for arg in vars(args):\n",
    "        arg2value[arg] = getattr(args, arg)\n",
    "    print(arg2value)\n",
    "\n",
    "\n",
    "def main():\n",
    "    args, unknown = parse_args()\n",
    "    printConfig(args)\n",
    "\n",
    "    if args.embedder == \"HDI\":\n",
    "        from OpenAttMultiGL.model.hdmi.hdi_link import HDI\n",
    "        embedder = HDI(args)\n",
    "    elif args.embedder == \"HDMI\":\n",
    "        from OpenAttMultiGL.model.hdmi.hdmi_link import HDMI\n",
    "        embedder = HDMI(args)\n",
    "\n",
    "    AUC, ap, hits = embedder.training()\n",
    "    print(\"Average-precision:\", np.mean(ap), np.std(ap))\n",
    "    print(\"Average-AUC:\", np.mean(AUC), np.std(AUC))\n",
    "    # f = open(\"results/final_results_0.4\", 'a+')\n",
    "    # f.write(args.dataset + '_' + str(args.test_view)+ f'   Average-percision: {ap:.4f} '\n",
    "    #     + f'   Precision@20: {hits[0]:.4f} '\n",
    "    #     + f'   Precision@50: {hits[1]:.4f} '\n",
    "    #     + f'   Precision@100: {hits[2]:.4f} '\n",
    "    #     + f'   Precision@200: {hits[3]:.4f} '\n",
    "    #     + f'   Precision@500: {hits[4]:.4f} '\n",
    "    #     + f'   Precision@1000: {hits[5]:.4f} '\n",
    "    #     + f'   Precision@10000: {hits[6]:.4f}\\n')\n",
    "    return AUC, hits, ap\n",
    "\n",
    "\n",
    "if __name__ == '__main__':\n",
    "   \n",
    "    AUC, hits, ap = main()\n",
    "\n",
    "\n"
   ]
  },
  {
   "cell_type": "code",
   "execution_count": null,
   "id": "f4e01a9e",
   "metadata": {},
   "outputs": [],
   "source": []
  }
 ],
 "metadata": {
  "kernelspec": {
   "display_name": "Python 3 (ipykernel)",
   "language": "python",
   "name": "python3"
  },
  "language_info": {
   "codemirror_mode": {
    "name": "ipython",
    "version": 3
   },
   "file_extension": ".py",
   "mimetype": "text/x-python",
   "name": "python",
   "nbconvert_exporter": "python",
   "pygments_lexer": "ipython3",
   "version": "3.10.9"
  }
 },
 "nbformat": 4,
 "nbformat_minor": 5
}
