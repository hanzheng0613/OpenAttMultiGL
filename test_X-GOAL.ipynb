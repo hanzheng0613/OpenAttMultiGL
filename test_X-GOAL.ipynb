{
 "cells": [
  {
   "cell_type": "code",
   "execution_count": 2,
   "id": "cc64148c",
   "metadata": {
    "scrolled": true
   },
   "outputs": [
    {
     "name": "stdout",
     "output_type": "stream",
     "text": [
      "{'dataset': 'amazon', 'model': 'goal', 'hid_units': 128, 'nb_epochs': 20000, 'training_ratio': 0.3, 'validing_ratio': 0.1, 'lr': 0.001, 'patience': 100, 'gpu_num': 0, 'save_root': './saved_model', 'pretrained_model_path': '', 'p_drop': 0.5, 'k': 4, 'tau': 1, 'w_cluster': 0.01, 'cluster_step': 5, 'is_warmup': True, 'warmup_lr': 0.005, 'layer': 0}\n",
      "20000\n"
     ]
    },
    {
     "ename": "AttributeError",
     "evalue": "'Namespace' object has no attribute 'ft_size'",
     "output_type": "error",
     "traceback": [
      "\u001b[0;31m---------------------------------------------------------------------------\u001b[0m",
      "\u001b[0;31mAttributeError\u001b[0m                            Traceback (most recent call last)",
      "Cell \u001b[0;32mIn[2], line 71\u001b[0m\n\u001b[1;32m     66\u001b[0m     \u001b[38;5;66;03m#model.train()\u001b[39;00m\n\u001b[1;32m     67\u001b[0m     \u001b[38;5;66;03m#model.evaluate()\u001b[39;00m\n\u001b[1;32m     70\u001b[0m \u001b[38;5;28;01mif\u001b[39;00m \u001b[38;5;18m__name__\u001b[39m \u001b[38;5;241m==\u001b[39m \u001b[38;5;124m'\u001b[39m\u001b[38;5;124m__main__\u001b[39m\u001b[38;5;124m'\u001b[39m:\n\u001b[0;32m---> 71\u001b[0m     \u001b[43mmain\u001b[49m\u001b[43m(\u001b[49m\u001b[43m)\u001b[49m\n",
      "Cell \u001b[0;32mIn[2], line 56\u001b[0m, in \u001b[0;36mmain\u001b[0;34m()\u001b[0m\n\u001b[1;32m     54\u001b[0m printConfig(args)\n\u001b[1;32m     55\u001b[0m \u001b[38;5;28mprint\u001b[39m(args\u001b[38;5;241m.\u001b[39mnb_epochs)\n\u001b[0;32m---> 56\u001b[0m \u001b[38;5;28mprint\u001b[39m(\u001b[43margs\u001b[49m\u001b[38;5;241;43m.\u001b[39;49m\u001b[43mft_size\u001b[49m)\n\u001b[1;32m     57\u001b[0m \u001b[38;5;28mprint\u001b[39m(args\u001b[38;5;241m.\u001b[39mdataset)\n\u001b[1;32m     58\u001b[0m \u001b[38;5;28mprint\u001b[39m(args\u001b[38;5;241m.\u001b[39mp_drop)\n",
      "\u001b[0;31mAttributeError\u001b[0m: 'Namespace' object has no attribute 'ft_size'"
     ]
    }
   ],
   "source": [
    "import argparse\n",
    "\n",
    "from mGCN_Toolbox.model.X_GOAL import GOAL\n",
    "\n",
    "from sklearn.metrics import normalized_mutual_info_score, pairwise, f1_score\n",
    "import numpy as np\n",
    "def parse_args():\n",
    "    parser = argparse.ArgumentParser()\n",
    "    parser.add_argument('--dataset', nargs='?', default='amazon')\n",
    "    parser.add_argument('--model', type=str, default='goal')\n",
    "\n",
    "    parser.add_argument('--hid_units', type=int, default=128, help='hidden dimension')\n",
    "    parser.add_argument('--nb_epochs', type=int, default=20000, help='the maximum number of epochs')\n",
    "    parser.add_argument('--training_ratio', type=float, default=0.3,\n",
    "                        help='Training Ratio')\n",
    "    parser.add_argument('--validing_ratio', type=float, default=0.1,\n",
    "                        help='Validing Ratio')\n",
    "    parser.add_argument('--lr', type=float, default=0.001, help='learning rate')\n",
    "    parser.add_argument('--patience', type=int, default=100, help='patience for early stopping')\n",
    "    parser.add_argument('--gpu_num', type=int, default=0, help='the id of gpu to use')\n",
    "\n",
    "    parser.add_argument('--save_root', type=str, default=\"./saved_model\", help='root for saving the model')\n",
    "    parser.add_argument('--pretrained_model_path', type=str, default=\"\",\n",
    "                        help='path to the pretrained model')\n",
    "\n",
    "    # hyper-parameters for info-nce\n",
    "    parser.add_argument('--p_drop', type=float, default=0.5, help='dropout rate for attributes')\n",
    "\n",
    "    # hyper-parameters for clusters\n",
    "    parser.add_argument('--k', type=list, default=4, help='the numbers of clusters')\n",
    "    parser.add_argument('--tau', type=list, default=1, help='the temperature of clusters')\n",
    "    parser.add_argument('--w_cluster', type=list, default=1e-2, help='weight for cluster loss')\n",
    "    parser.add_argument('--cluster_step', type=int, default=5, help='every n steps to perform clustering')\n",
    "\n",
    "    # warm-up\n",
    "    parser.add_argument('--is_warmup', type=bool, default=True, help='whether to warm up or not')\n",
    "    parser.add_argument('--warmup_lr', type=float, default=5e-3, help='learning rate')\n",
    "\n",
    "    # for GOAL only\n",
    "    parser.add_argument('--layer', type=int, default=0, help='the layer index')\n",
    "\n",
    "    return parser.parse_known_args()\n",
    "\n",
    "\n",
    "def printConfig(args):\n",
    "    arg2value = {}\n",
    "    for arg in vars(args):\n",
    "        arg2value[arg] = getattr(args, arg)\n",
    "    print(arg2value)\n",
    "\n",
    "\n",
    "def main():\n",
    "    args, unknown = parse_args()\n",
    "    printConfig(args)\n",
    "    print(args.nb_epochs)\n",
    "    #print(args.ft_size)\n",
    "    print(args.dataset)\n",
    "    print(args.p_drop)\n",
    "    model = GOAL(args)\n",
    "    print(model.idx_test.shape)\n",
    "    \n",
    "    print(model.embeds)\n",
    "    print(np.eye(model.embeds.shape[0]))\n",
    "    c = pairwise.cosine_similarity(model.embeds) - np.eye(model.embeds.shape[0])\n",
    "    print(c)\n",
    "    #model.train()\n",
    "    #model.evaluate()\n",
    "\n",
    "\n",
    "if __name__ == '__main__':\n",
    "    main()\n",
    "\n"
   ]
  },
  {
   "cell_type": "code",
   "execution_count": null,
   "id": "f5f9fa68",
   "metadata": {},
   "outputs": [],
   "source": []
  },
  {
   "cell_type": "code",
   "execution_count": null,
   "id": "b5f91c9f",
   "metadata": {},
   "outputs": [],
   "source": []
  }
 ],
 "metadata": {
  "kernelspec": {
   "display_name": "Python 3 (ipykernel)",
   "language": "python",
   "name": "python3"
  },
  "language_info": {
   "codemirror_mode": {
    "name": "ipython",
    "version": 3
   },
   "file_extension": ".py",
   "mimetype": "text/x-python",
   "name": "python",
   "nbconvert_exporter": "python",
   "pygments_lexer": "ipython3",
   "version": "3.10.9"
  }
 },
 "nbformat": 4,
 "nbformat_minor": 5
}
