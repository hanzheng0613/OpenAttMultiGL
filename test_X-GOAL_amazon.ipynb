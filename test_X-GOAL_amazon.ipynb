{
 "cells": [
  {
   "cell_type": "code",
   "execution_count": 1,
   "id": "cc64148c",
   "metadata": {
    "scrolled": true
   },
   "outputs": [
    {
     "name": "stdout",
     "output_type": "stream",
     "text": [
      "{'dataset': 'amazon', 'model': 'xgoal', 'hid_units': 128, 'nb_epochs': 20, 'lr': 0.001, 'patience': 100, 'gpu_num': 0, 'save_root': './saved_models', 'pretrained_model_path': './example_ckpts/warmup_amazon_xgoal.pkl', 'p_drop': 0.5, 'k': [4, 4, 4], 'tau': [1, 1, 1], 'w_cluster': 0.01, 'cluster_step': 5, 'w_reg_n': 0.001, 'w_reg_c': 0.01, 'w_list': [1, 1, 1], 'is_warmup': False, 'warmup_lr': 0.005, 'warmup_w_reg_n': 0.1}\n",
      "Started training on amazon with xgoal...\n",
      "Full loss training...\n"
     ]
    },
    {
     "name": "stderr",
     "output_type": "stream",
     "text": [
      "\r",
      "  0%|                                                    | 0/20 [00:00<?, ?it/s]"
     ]
    },
    {
     "name": "stdout",
     "output_type": "stream",
     "text": [
      "loss_full: 1.683045, L_n: 1.61401, L_c: 0.0612328, R_n: 0.000822781, R_c: 0.698295\n"
     ]
    },
    {
     "name": "stderr",
     "output_type": "stream",
     "text": [
      " 50%|█████████████████████▌                     | 10/20 [01:21<01:18,  7.86s/it]"
     ]
    },
    {
     "name": "stdout",
     "output_type": "stream",
     "text": [
      "loss_full: 1.449641, L_n: 1.40575, L_c: 0.0393882, R_n: 0.000728563, R_c: 0.377025\n"
     ]
    },
    {
     "name": "stderr",
     "output_type": "stream",
     "text": [
      "100%|███████████████████████████████████████████| 20/20 [02:38<00:00,  7.94s/it]\n"
     ]
    },
    {
     "name": "stdout",
     "output_type": "stream",
     "text": [
      "Evaluating...\n",
      "\t[Classification] Macro-F1: 0.3763 (0.0022) | Micro-F1: 0.3835 (0.0026)\n",
      "\t[Clustering] NMI: 0.0004 | 0.0000\n",
      "\t[Similarity] [5,10,20,50,100] : [0.3887,0.3878,0.3839,0.3696,0.3558]\n"
     ]
    }
   ],
   "source": [
    "import argparse\n",
    "\n",
    "from OpenAttMultiGL.model.X_GOAL.xgoal import XGOAL\n",
    "\n",
    "from sklearn.metrics import normalized_mutual_info_score, pairwise, f1_score\n",
    "import numpy as np\n",
    "def parse_args():\n",
    "    parser = argparse.ArgumentParser()\n",
    "    parser.add_argument('--dataset', nargs='?', default='amazon')\n",
    "    parser.add_argument('--model', type=str, default='xgoal')\n",
    "\n",
    "    parser.add_argument('--hid_units', type=int, default=128, help='hidden dimension')\n",
    "    parser.add_argument('--nb_epochs', type=int, default=20000, help='the maximum number of epochs')\n",
    "    parser.add_argument('--lr', type=float, default=1e-3, help='learning rate')\n",
    "    parser.add_argument('--patience', type=int, default=100, help='patience for early stopping')\n",
    "    parser.add_argument('--gpu_num', type=int, default=0, help='the id of gpu to use')\n",
    "\n",
    "    # path\n",
    "    parser.add_argument('--save_root', type=str, default=\"./saved_models\", help='root for saving the model')\n",
    "    parser.add_argument('--pretrained_model_path', type=str, default=\"./example_ckpts/warmup_amazon_xgoal.pkl\",\n",
    "                        help='path to the pretrained model')\n",
    "\n",
    "    # hyper-parameters for info-nce\n",
    "    parser.add_argument('--p_drop', type=float, default=0.5, help='dropout rate for attributes')\n",
    "\n",
    "    # hyper-parameters for clusters\n",
    "    parser.add_argument('--k', type=list, default=[4, 4, 4], help='the numbers of clusters')\n",
    "    parser.add_argument('--tau', type=list, default=[1, 1, 1], help='the temperature of clusters')\n",
    "    parser.add_argument('--w_cluster', type=list, default=1e-2, help='weight for cluster loss')\n",
    "    parser.add_argument('--cluster_step', type=int, default=5, help='every n steps to perform clustering')\n",
    "\n",
    "    # hyper-parameters for alignment\n",
    "    parser.add_argument('--w_reg_n', type=float, default=1e-3, help='weight for node level alignment regularization')\n",
    "    parser.add_argument('--w_reg_c', type=float, default=1e-2, help='weight for cluster level alignment regularization')\n",
    "\n",
    "    # hyper-parameters for differnet layers\n",
    "    parser.add_argument('--w_list', type=list, default=[1, 1, 1], help=\"weights for different layers\")\n",
    "\n",
    "    # warm-up\n",
    "    parser.add_argument('--is_warmup', type=bool, default=False, help='whether to warm up or not')\n",
    "    parser.add_argument('--warmup_lr', type=float, default=5e-3, help='learning rate')\n",
    "    parser.add_argument('--warmup_w_reg_n', type=float, default=1e-1, help='weight for node level alignment regularization')\n",
    "\n",
    "    return parser.parse_known_args()\n",
    "\n",
    "\n",
    "def printConfig(args):\n",
    "    arg2value = {}\n",
    "    for arg in vars(args):\n",
    "        arg2value[arg] = getattr(args, arg)\n",
    "    print(arg2value)\n",
    "\n",
    "\n",
    "def main():\n",
    "    args, unknown = parse_args()\n",
    "    printConfig(args)\n",
    "    \n",
    "    model = XGOAL(args)\n",
    "    \n",
    "    model.train()\n",
    "    model.evaluate()\n",
    "     #train_model(d, feature_dic,t)\n",
    "    \n",
    "    #print(\"Final score: \\n\")\n",
    "    #print('Micro: {:.4f} ({:.4f})'.format(np.mean(micro),np.std(micro)))\n",
    "    #print('Macro: {:.4f} ({:.4f})'.format(np.mean(macro),np.std(macro)))\n",
    "    #print('Sim: {:.4f} ({:.4f})'.format(np.mean(sim),np.std(sim)))\n",
    "    #print('NMI: {:.4f} ({:.4f})'.format(np.mean(nmi),np.std(nmi)))\n",
    "#\n",
    "if __name__ == '__main__':\n",
    "    main()\n",
    "\n"
   ]
  },
  {
   "cell_type": "code",
   "execution_count": null,
   "id": "f5f9fa68",
   "metadata": {},
   "outputs": [],
   "source": []
  },
  {
   "cell_type": "code",
   "execution_count": null,
   "id": "b5f91c9f",
   "metadata": {},
   "outputs": [],
   "source": []
  }
 ],
 "metadata": {
  "kernelspec": {
   "display_name": "Python 3 (ipykernel)",
   "language": "python",
   "name": "python3"
  },
  "language_info": {
   "codemirror_mode": {
    "name": "ipython",
    "version": 3
   },
   "file_extension": ".py",
   "mimetype": "text/x-python",
   "name": "python",
   "nbconvert_exporter": "python",
   "pygments_lexer": "ipython3",
   "version": "3.10.9"
  }
 },
 "nbformat": 4,
 "nbformat_minor": 5
}
