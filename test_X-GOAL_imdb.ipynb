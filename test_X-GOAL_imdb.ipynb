{
 "cells": [
  {
   "cell_type": "code",
   "execution_count": 2,
   "id": "15421a66",
   "metadata": {},
   "outputs": [
    {
     "name": "stdout",
     "output_type": "stream",
     "text": [
      "{'dataset': 'imdb', 'model': 'xgoal', 'hid_units': 128, 'nb_epochs': 20, 'lr': 0.005, 'patience': 100, 'gpu_num': 0, 'save_root': './saved_models', 'pretrained_model_path': './example_ckpts/warmup_imdb_xgoal.pkl', 'p_drop': 0.5, 'k': [50, 50], 'tau': [1, 1], 'w_cluster': 0.1, 'cluster_step': 5, 'w_reg_n': 0.0001, 'w_reg_c': 0.01, 'w_list': [1, 1], 'is_warmup': False, 'warmup_lr': 0.005, 'warmup_w_reg_n': 0.001}\n",
      "Started training on imdb with xgoal...\n",
      "Full loss training...\n"
     ]
    },
    {
     "name": "stderr",
     "output_type": "stream",
     "text": [
      "\r",
      "  0%|                                                    | 0/20 [00:00<?, ?it/s]"
     ]
    },
    {
     "name": "stdout",
     "output_type": "stream",
     "text": [
      "loss_full: 1.859828, L_n: 1.07846, L_c: 0.781283, R_n: 8.21589e-05, R_c: 0.000418012\n"
     ]
    },
    {
     "name": "stderr",
     "output_type": "stream",
     "text": [
      " 50%|█████████████████████▌                     | 10/20 [00:21<00:18,  1.82s/it]"
     ]
    },
    {
     "name": "stdout",
     "output_type": "stream",
     "text": [
      "loss_full: 2.380162, L_n: 1.37388, L_c: 0.996652, R_n: 0.000119082, R_c: 0.951531\n"
     ]
    },
    {
     "name": "stderr",
     "output_type": "stream",
     "text": [
      "100%|███████████████████████████████████████████| 20/20 [00:42<00:00,  2.14s/it]\n"
     ]
    },
    {
     "name": "stdout",
     "output_type": "stream",
     "text": [
      "Evaluating...\n",
      "\t[Classification] Macro-F1: 0.5033 (0.0085) | Micro-F1: 0.5320 (0.0067)\n",
      "\t[Clustering] NMI: 0.0012 | 0.0000\n",
      "\t[Similarity] [5,10,20,50,100] : [0.5418,0.5241,0.5117,0.4932,0.4754]\n"
     ]
    }
   ],
   "source": [
    "import argparse\n",
    "\n",
    "from OpenAttMultiGL.model.X_GOAL.xgoal import XGOAL\n",
    "\n",
    "from sklearn.metrics import normalized_mutual_info_score, pairwise, f1_score\n",
    "import numpy as np\n",
    "def parse_args():\n",
    "    parser = argparse.ArgumentParser()\n",
    "    parser.add_argument('--dataset', nargs='?', default='imdb')\n",
    "    parser.add_argument('--model', type=str, default='xgoal')\n",
    "\n",
    "    parser.add_argument('--hid_units', type=int, default=128, help='hidden dimension')\n",
    "    parser.add_argument('--nb_epochs', type=int, default=20000, help='the maximum number of epochs')\n",
    "    parser.add_argument('--lr', type=float, default=5e-3, help='learning rate')\n",
    "    parser.add_argument('--patience', type=int, default=100, help='patience for early stopping')\n",
    "    parser.add_argument('--gpu_num', type=int, default=0, help='the id of gpu to use')\n",
    "\n",
    "    # path\n",
    "    parser.add_argument('--save_root', type=str, default=\"./saved_models\", help='root for saving the model')\n",
    "    parser.add_argument('--pretrained_model_path', type=str, default=\"./example_ckpts/warmup_imdb_xgoal.pkl\",\n",
    "                        help='path to the pretrained model')\n",
    "\n",
    "    # hyper-parameters for info-nce\n",
    "    parser.add_argument('--p_drop', type=float, default=0.5, help='dropout rate for attributes')\n",
    "\n",
    "    # hyper-parameters for clusters\n",
    "    parser.add_argument('--k', type=list, default=[50, 50], help='the numbers of clusters')\n",
    "    parser.add_argument('--tau', type=list, default=[1, 1], help='the temperature of clusters')\n",
    "    parser.add_argument('--w_cluster', type=list, default=1e-1, help='weight for cluster loss')\n",
    "    parser.add_argument('--cluster_step', type=int, default=5, help='every n steps to perform clustering')\n",
    "\n",
    "    # hyper-parameters for alignment\n",
    "    parser.add_argument('--w_reg_n', type=float, default=1e-4, help='weight for node level alignment regularization')\n",
    "    parser.add_argument('--w_reg_c', type=float, default=1e-2, help='weight for cluster level alignment regularization')\n",
    "\n",
    "    # hyper-parameters for differnet layers\n",
    "    parser.add_argument('--w_list', type=list, default=[1, 1], help=\"weights for different layers\")\n",
    "\n",
    "    # warm-up\n",
    "    parser.add_argument('--is_warmup', type=bool, default=False, help='whether to warm up or not')\n",
    "    parser.add_argument('--warmup_lr', type=float, default=5e-3, help='learning rate')\n",
    "    parser.add_argument('--warmup_w_reg_n', type=float, default=1e-3, help='weight for node level alignment regularization')\n",
    "\n",
    "    return parser.parse_known_args()\n",
    "\n",
    "\n",
    "def printConfig(args):\n",
    "    arg2value = {}\n",
    "    for arg in vars(args):\n",
    "        arg2value[arg] = getattr(args, arg)\n",
    "    print(arg2value)\n",
    "\n",
    "\n",
    "def main():\n",
    "    args, unknown = parse_args()\n",
    "    printConfig(args)\n",
    "\n",
    "    model = XGOAL(args)\n",
    "    model.train()\n",
    "    model.evaluate()\n",
    "\n",
    "\n",
    "def evaluate():\n",
    "    args, unknown = parse_args()\n",
    "    printConfig(args)\n",
    "\n",
    "    model = XGOAL(args)\n",
    "    model.evaluate()\n",
    "\n",
    "\n",
    "if __name__ == '__main__':\n",
    "    main()\n",
    "    # evaluate()"
   ]
  },
  {
   "cell_type": "code",
   "execution_count": null,
   "id": "10a7c9f2",
   "metadata": {},
   "outputs": [],
   "source": []
  }
 ],
 "metadata": {
  "kernelspec": {
   "display_name": "Python 3 (ipykernel)",
   "language": "python",
   "name": "python3"
  },
  "language_info": {
   "codemirror_mode": {
    "name": "ipython",
    "version": 3
   },
   "file_extension": ".py",
   "mimetype": "text/x-python",
   "name": "python",
   "nbconvert_exporter": "python",
   "pygments_lexer": "ipython3",
   "version": "3.10.9"
  }
 },
 "nbformat": 4,
 "nbformat_minor": 5
}
