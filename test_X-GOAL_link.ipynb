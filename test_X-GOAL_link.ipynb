{
 "cells": [
  {
   "cell_type": "code",
   "execution_count": null,
   "id": "cc64148c",
   "metadata": {
    "scrolled": true
   },
   "outputs": [
    {
     "name": "stdout",
     "output_type": "stream",
     "text": [
      "{'dataset': 'dblp', 'model': 'goal', 'hid_units': 128, 'nb_epochs': 10, 'training_ratio': 0.3, 'validing_ratio': 0.1, 'lr': 0.001, 'patience': 100, 'gpu_num': 0, 'save_root': './saved_model', 'pretrained_model_path': '', 'test_view': 0, 'p_drop': 0.5, 'k': 4, 'tau': 1, 'w_cluster': 0.01, 'cluster_step': 5, 'is_warmup': True, 'warmup_lr': 0.005, 'layer': 0}\n"
     ]
    }
   ],
   "source": [
    "import argparse\n",
    "\n",
    "from OpenAttMultiGL.model.X_GOAL.goal_link import GOAL\n",
    "\n",
    "from sklearn.metrics import normalized_mutual_info_score, pairwise, f1_score\n",
    "from OpenAttMultiGL.utils.dataset import dataset\n",
    "import numpy as np\n",
    "def parse_args():\n",
    "    parser = argparse.ArgumentParser()\n",
    "    parser.add_argument('--dataset', nargs='?', default='dblp')\n",
    "    parser.add_argument('--model', type=str, default='goal')\n",
    "\n",
    "    parser.add_argument('--hid_units', type=int, default=128, help='hidden dimension')\n",
    "    parser.add_argument('--nb_epochs', type=int, default=10, help='the maximum number of epochs')\n",
    "    parser.add_argument('--training_ratio', type=float, default=0.3,\n",
    "                        help='Training Ratio')\n",
    "    parser.add_argument('--validing_ratio', type=float, default=0.1,\n",
    "                        help='Validing Ratio')\n",
    "    parser.add_argument('--lr', type=float, default=0.001, help='learning rate')\n",
    "    parser.add_argument('--patience', type=int, default=100, help='patience for early stopping')\n",
    "    parser.add_argument('--gpu_num', type=int, default=0, help='the id of gpu to use')\n",
    "\n",
    "    parser.add_argument('--save_root', type=str, default=\"./saved_model\", help='root for saving the model')\n",
    "    parser.add_argument('--pretrained_model_path', type=str, default=\"\",\n",
    "                        help='path to the pretrained model')\n",
    "    parser.add_argument('--test_view', type=int, default=0, help='the id of gpu to use')\n",
    "    # hyper-parameters for info-nce\n",
    "    parser.add_argument('--p_drop', type=float, default=0.5, help='dropout rate for attributes')\n",
    "\n",
    "    # hyper-parameters for clusters\n",
    "    parser.add_argument('--k', type=list, default=4, help='the numbers of clusters')\n",
    "    parser.add_argument('--tau', type=list, default=1, help='the temperature of clusters')\n",
    "    parser.add_argument('--w_cluster', type=list, default=1e-2, help='weight for cluster loss')\n",
    "    parser.add_argument('--cluster_step', type=int, default=5, help='every n steps to perform clustering')\n",
    "\n",
    "    # warm-up\n",
    "    parser.add_argument('--is_warmup', type=bool, default=True, help='whether to warm up or not')\n",
    "    parser.add_argument('--warmup_lr', type=float, default=5e-3, help='learning rate')\n",
    "\n",
    "    # for GOAL only\n",
    "    parser.add_argument('--layer', type=int, default=0, help='the layer index')\n",
    "        \n",
    "    return parser.parse_known_args()\n",
    "\n",
    "\n",
    "def printConfig(args):\n",
    "    arg2value = {}\n",
    "    for arg in vars(args):\n",
    "        arg2value[arg] = getattr(args, arg)\n",
    "    print(arg2value)\n",
    "\n",
    "\n",
    "def main():\n",
    "    args, unknown = parse_args()\n",
    "    printConfig(args)\n",
    "    #print(args.nb_epochs)\n",
    "    ##print(args.ft_size)\n",
    "    #print(args.dataset)\n",
    "    #print(args.p_drop)\n",
    "    model = GOAL(args)\n",
    "    t = dataset(args)\n",
    "    print(type(t.edge_list))\n",
    "    #print(model.idx_test.shape)\n",
    "    AUC, ap, hits = model.train()\n",
    "    print(\"Average-percision:\", np.mean(ap), np.std(ap))\n",
    "    print(\"Average-AUC:\", np.mean(AUC), np.std(AUC))\n",
    "    #print(model.embeds)\n",
    "    #print(np.eye(model.embeds.shape[0]))\n",
    "    #c = pairwise.cosine_similarity(model.embeds) - np.eye(model.embeds.shape[0])\n",
    "    #print(c)\n",
    "    #model.train()\n",
    "    #model.evaluate()\n",
    "\n",
    "\n",
    "if __name__ == '__main__':\n",
    "    main()\n",
    "\n"
   ]
  },
  {
   "cell_type": "code",
   "execution_count": null,
   "id": "f5f9fa68",
   "metadata": {},
   "outputs": [],
   "source": []
  },
  {
   "cell_type": "code",
   "execution_count": null,
   "id": "b5f91c9f",
   "metadata": {},
   "outputs": [],
   "source": []
  }
 ],
 "metadata": {
  "kernelspec": {
   "display_name": "Python 3 (ipykernel)",
   "language": "python",
   "name": "python3"
  },
  "language_info": {
   "codemirror_mode": {
    "name": "ipython",
    "version": 3
   },
   "file_extension": ".py",
   "mimetype": "text/x-python",
   "name": "python",
   "nbconvert_exporter": "python",
   "pygments_lexer": "ipython3",
   "version": "3.10.9"
  }
 },
 "nbformat": 4,
 "nbformat_minor": 5
}
